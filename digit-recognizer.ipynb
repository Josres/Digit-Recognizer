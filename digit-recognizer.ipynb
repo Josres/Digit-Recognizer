{
 "cells": [
  {
   "cell_type": "code",
   "execution_count": 52,
   "metadata": {
    "_cell_guid": "b1076dfc-b9ad-4769-8c92-a6c4dae69d19",
    "_uuid": "8f2839f25d086af736a60e9eeb907d3b93b6e0e5",
    "execution": {
     "iopub.execute_input": "2025-06-20T19:39:36.237228Z",
     "iopub.status.busy": "2025-06-20T19:39:36.236967Z",
     "iopub.status.idle": "2025-06-20T19:39:36.257457Z",
     "shell.execute_reply": "2025-06-20T19:39:36.256876Z",
     "shell.execute_reply.started": "2025-06-20T19:39:36.237209Z"
    },
    "trusted": true
   },
   "outputs": [
    {
     "name": "stdout",
     "output_type": "stream",
     "text": [
      "/kaggle/input/digit-recognizer/sample_submission.csv\n",
      "/kaggle/input/digit-recognizer/train.csv\n",
      "/kaggle/input/digit-recognizer/test.csv\n"
     ]
    }
   ],
   "source": [
    "# This Python 3 environment comes with many helpful analytics libraries installed\n",
    "# It is defined by the kaggle/python Docker image: https://github.com/kaggle/docker-python\n",
    "# For example, here's several helpful packages to load\n",
    "\n",
    "import numpy as np # linear algebra\n",
    "import pandas as pd # data processing, CSV file I/O (e.g. pd.read_csv)\n",
    "\n",
    "# Input data files are available in the read-only \"../input/\" directory\n",
    "# For example, running this (by clicking run or pressing Shift+Enter) will list all files under the input directory\n",
    "\n",
    "import os\n",
    "for dirname, _, filenames in os.walk('/kaggle/input'):\n",
    "    for filename in filenames:\n",
    "        print(os.path.join(dirname, filename))\n",
    "\n",
    "# You can write up to 20GB to the current directory (/kaggle/working/) that gets preserved as output when you create a version using \"Save & Run All\" \n",
    "# You can also write temporary files to /kaggle/temp/, but they won't be saved outside of the current session"
   ]
  },
  {
   "cell_type": "code",
   "execution_count": null,
   "metadata": {
    "execution": {
     "iopub.execute_input": "2025-06-20T20:04:34.639971Z",
     "iopub.status.busy": "2025-06-20T20:04:34.639684Z",
     "iopub.status.idle": "2025-06-20T20:04:34.645703Z",
     "shell.execute_reply": "2025-06-20T20:04:34.645158Z",
     "shell.execute_reply.started": "2025-06-20T20:04:34.639948Z"
    },
    "trusted": true
   },
   "outputs": [],
   "source": [
    "import numpy as np\n",
    "import pandas as pd\n",
    "import matplotlib.pyplot as plt\n",
    "from tensorflow.keras.models import Sequential\n",
    "from tensorflow.keras.layers import (\n",
    "    Conv2D, MaxPooling2D, Dense, Flatten, Dropout, BatchNormalization\n",
    ")\n",
    "from tensorflow.keras.utils import to_categorical\n",
    "from tensorflow.keras.preprocessing.image import ImageDataGenerator\n",
    "from tensorflow.keras.callbacks import EarlyStopping, ReduceLROnPlateau\n",
    "from sklearn.model_selection import train_test_split\n",
    "\n",
    "# Display settings\n",
    "sns.set(style=\"whitegrid\")\n",
    "plt.rcParams[\"figure.figsize\"] = (10, 6)"
   ]
  },
  {
   "cell_type": "code",
   "execution_count": null,
   "metadata": {
    "execution": {
     "iopub.execute_input": "2025-06-20T19:39:39.674747Z",
     "iopub.status.busy": "2025-06-20T19:39:39.674219Z",
     "iopub.status.idle": "2025-06-20T19:39:42.755886Z",
     "shell.execute_reply": "2025-06-20T19:39:42.755100Z",
     "shell.execute_reply.started": "2025-06-20T19:39:39.674724Z"
    },
    "trusted": true
   },
   "outputs": [
    {
     "name": "stdout",
     "output_type": "stream",
     "text": [
      "Data loaded successfully.\n",
      "Training set shape: (42000, 785)\n",
      "Test set shape: (28000, 784)\n"
     ]
    }
   ],
   "source": [
    "# Load Data\n",
    "train_df = pd.read_csv(\"/kaggle/input/digit-recognizer/train.csv\")\n",
    "test_df = pd.read_csv(\"/kaggle/input/digit-recognizer/test.csv\")\n",
    "\n",
    "print(\"Data loaded successfully.\")\n",
    "print(f\"Training set shape: {train_df.shape}\")\n",
    "print(f\"Test set shape: {test_df.shape}\")"
   ]
  },
  {
   "cell_type": "code",
   "execution_count": null,
   "metadata": {
    "execution": {
     "iopub.execute_input": "2025-06-20T19:39:42.757257Z",
     "iopub.status.busy": "2025-06-20T19:39:42.757032Z",
     "iopub.status.idle": "2025-06-20T19:39:42.778166Z",
     "shell.execute_reply": "2025-06-20T19:39:42.777391Z",
     "shell.execute_reply.started": "2025-06-20T19:39:42.757240Z"
    },
    "trusted": true
   },
   "outputs": [
    {
     "name": "stdout",
     "output_type": "stream",
     "text": [
      "First few rows of training data:\n"
     ]
    },
    {
     "data": {
      "text/html": [
       "<div>\n",
       "<style scoped>\n",
       "    .dataframe tbody tr th:only-of-type {\n",
       "        vertical-align: middle;\n",
       "    }\n",
       "\n",
       "    .dataframe tbody tr th {\n",
       "        vertical-align: top;\n",
       "    }\n",
       "\n",
       "    .dataframe thead th {\n",
       "        text-align: right;\n",
       "    }\n",
       "</style>\n",
       "<table border=\"1\" class=\"dataframe\">\n",
       "  <thead>\n",
       "    <tr style=\"text-align: right;\">\n",
       "      <th></th>\n",
       "      <th>label</th>\n",
       "      <th>pixel0</th>\n",
       "      <th>pixel1</th>\n",
       "      <th>pixel2</th>\n",
       "      <th>pixel3</th>\n",
       "      <th>pixel4</th>\n",
       "      <th>pixel5</th>\n",
       "      <th>pixel6</th>\n",
       "      <th>pixel7</th>\n",
       "      <th>pixel8</th>\n",
       "      <th>...</th>\n",
       "      <th>pixel774</th>\n",
       "      <th>pixel775</th>\n",
       "      <th>pixel776</th>\n",
       "      <th>pixel777</th>\n",
       "      <th>pixel778</th>\n",
       "      <th>pixel779</th>\n",
       "      <th>pixel780</th>\n",
       "      <th>pixel781</th>\n",
       "      <th>pixel782</th>\n",
       "      <th>pixel783</th>\n",
       "    </tr>\n",
       "  </thead>\n",
       "  <tbody>\n",
       "    <tr>\n",
       "      <th>0</th>\n",
       "      <td>1</td>\n",
       "      <td>0</td>\n",
       "      <td>0</td>\n",
       "      <td>0</td>\n",
       "      <td>0</td>\n",
       "      <td>0</td>\n",
       "      <td>0</td>\n",
       "      <td>0</td>\n",
       "      <td>0</td>\n",
       "      <td>0</td>\n",
       "      <td>...</td>\n",
       "      <td>0</td>\n",
       "      <td>0</td>\n",
       "      <td>0</td>\n",
       "      <td>0</td>\n",
       "      <td>0</td>\n",
       "      <td>0</td>\n",
       "      <td>0</td>\n",
       "      <td>0</td>\n",
       "      <td>0</td>\n",
       "      <td>0</td>\n",
       "    </tr>\n",
       "    <tr>\n",
       "      <th>1</th>\n",
       "      <td>0</td>\n",
       "      <td>0</td>\n",
       "      <td>0</td>\n",
       "      <td>0</td>\n",
       "      <td>0</td>\n",
       "      <td>0</td>\n",
       "      <td>0</td>\n",
       "      <td>0</td>\n",
       "      <td>0</td>\n",
       "      <td>0</td>\n",
       "      <td>...</td>\n",
       "      <td>0</td>\n",
       "      <td>0</td>\n",
       "      <td>0</td>\n",
       "      <td>0</td>\n",
       "      <td>0</td>\n",
       "      <td>0</td>\n",
       "      <td>0</td>\n",
       "      <td>0</td>\n",
       "      <td>0</td>\n",
       "      <td>0</td>\n",
       "    </tr>\n",
       "    <tr>\n",
       "      <th>2</th>\n",
       "      <td>1</td>\n",
       "      <td>0</td>\n",
       "      <td>0</td>\n",
       "      <td>0</td>\n",
       "      <td>0</td>\n",
       "      <td>0</td>\n",
       "      <td>0</td>\n",
       "      <td>0</td>\n",
       "      <td>0</td>\n",
       "      <td>0</td>\n",
       "      <td>...</td>\n",
       "      <td>0</td>\n",
       "      <td>0</td>\n",
       "      <td>0</td>\n",
       "      <td>0</td>\n",
       "      <td>0</td>\n",
       "      <td>0</td>\n",
       "      <td>0</td>\n",
       "      <td>0</td>\n",
       "      <td>0</td>\n",
       "      <td>0</td>\n",
       "    </tr>\n",
       "    <tr>\n",
       "      <th>3</th>\n",
       "      <td>4</td>\n",
       "      <td>0</td>\n",
       "      <td>0</td>\n",
       "      <td>0</td>\n",
       "      <td>0</td>\n",
       "      <td>0</td>\n",
       "      <td>0</td>\n",
       "      <td>0</td>\n",
       "      <td>0</td>\n",
       "      <td>0</td>\n",
       "      <td>...</td>\n",
       "      <td>0</td>\n",
       "      <td>0</td>\n",
       "      <td>0</td>\n",
       "      <td>0</td>\n",
       "      <td>0</td>\n",
       "      <td>0</td>\n",
       "      <td>0</td>\n",
       "      <td>0</td>\n",
       "      <td>0</td>\n",
       "      <td>0</td>\n",
       "    </tr>\n",
       "    <tr>\n",
       "      <th>4</th>\n",
       "      <td>0</td>\n",
       "      <td>0</td>\n",
       "      <td>0</td>\n",
       "      <td>0</td>\n",
       "      <td>0</td>\n",
       "      <td>0</td>\n",
       "      <td>0</td>\n",
       "      <td>0</td>\n",
       "      <td>0</td>\n",
       "      <td>0</td>\n",
       "      <td>...</td>\n",
       "      <td>0</td>\n",
       "      <td>0</td>\n",
       "      <td>0</td>\n",
       "      <td>0</td>\n",
       "      <td>0</td>\n",
       "      <td>0</td>\n",
       "      <td>0</td>\n",
       "      <td>0</td>\n",
       "      <td>0</td>\n",
       "      <td>0</td>\n",
       "    </tr>\n",
       "  </tbody>\n",
       "</table>\n",
       "<p>5 rows × 785 columns</p>\n",
       "</div>"
      ],
      "text/plain": [
       "   label  pixel0  pixel1  pixel2  pixel3  pixel4  pixel5  pixel6  pixel7  \\\n",
       "0      1       0       0       0       0       0       0       0       0   \n",
       "1      0       0       0       0       0       0       0       0       0   \n",
       "2      1       0       0       0       0       0       0       0       0   \n",
       "3      4       0       0       0       0       0       0       0       0   \n",
       "4      0       0       0       0       0       0       0       0       0   \n",
       "\n",
       "   pixel8  ...  pixel774  pixel775  pixel776  pixel777  pixel778  pixel779  \\\n",
       "0       0  ...         0         0         0         0         0         0   \n",
       "1       0  ...         0         0         0         0         0         0   \n",
       "2       0  ...         0         0         0         0         0         0   \n",
       "3       0  ...         0         0         0         0         0         0   \n",
       "4       0  ...         0         0         0         0         0         0   \n",
       "\n",
       "   pixel780  pixel781  pixel782  pixel783  \n",
       "0         0         0         0         0  \n",
       "1         0         0         0         0  \n",
       "2         0         0         0         0  \n",
       "3         0         0         0         0  \n",
       "4         0         0         0         0  \n",
       "\n",
       "[5 rows x 785 columns]"
      ]
     },
     "metadata": {},
     "output_type": "display_data"
    },
    {
     "name": "stdout",
     "output_type": "stream",
     "text": [
      "First few rows of test data:\n"
     ]
    },
    {
     "data": {
      "text/html": [
       "<div>\n",
       "<style scoped>\n",
       "    .dataframe tbody tr th:only-of-type {\n",
       "        vertical-align: middle;\n",
       "    }\n",
       "\n",
       "    .dataframe tbody tr th {\n",
       "        vertical-align: top;\n",
       "    }\n",
       "\n",
       "    .dataframe thead th {\n",
       "        text-align: right;\n",
       "    }\n",
       "</style>\n",
       "<table border=\"1\" class=\"dataframe\">\n",
       "  <thead>\n",
       "    <tr style=\"text-align: right;\">\n",
       "      <th></th>\n",
       "      <th>pixel0</th>\n",
       "      <th>pixel1</th>\n",
       "      <th>pixel2</th>\n",
       "      <th>pixel3</th>\n",
       "      <th>pixel4</th>\n",
       "      <th>pixel5</th>\n",
       "      <th>pixel6</th>\n",
       "      <th>pixel7</th>\n",
       "      <th>pixel8</th>\n",
       "      <th>pixel9</th>\n",
       "      <th>...</th>\n",
       "      <th>pixel774</th>\n",
       "      <th>pixel775</th>\n",
       "      <th>pixel776</th>\n",
       "      <th>pixel777</th>\n",
       "      <th>pixel778</th>\n",
       "      <th>pixel779</th>\n",
       "      <th>pixel780</th>\n",
       "      <th>pixel781</th>\n",
       "      <th>pixel782</th>\n",
       "      <th>pixel783</th>\n",
       "    </tr>\n",
       "  </thead>\n",
       "  <tbody>\n",
       "    <tr>\n",
       "      <th>0</th>\n",
       "      <td>0</td>\n",
       "      <td>0</td>\n",
       "      <td>0</td>\n",
       "      <td>0</td>\n",
       "      <td>0</td>\n",
       "      <td>0</td>\n",
       "      <td>0</td>\n",
       "      <td>0</td>\n",
       "      <td>0</td>\n",
       "      <td>0</td>\n",
       "      <td>...</td>\n",
       "      <td>0</td>\n",
       "      <td>0</td>\n",
       "      <td>0</td>\n",
       "      <td>0</td>\n",
       "      <td>0</td>\n",
       "      <td>0</td>\n",
       "      <td>0</td>\n",
       "      <td>0</td>\n",
       "      <td>0</td>\n",
       "      <td>0</td>\n",
       "    </tr>\n",
       "    <tr>\n",
       "      <th>1</th>\n",
       "      <td>0</td>\n",
       "      <td>0</td>\n",
       "      <td>0</td>\n",
       "      <td>0</td>\n",
       "      <td>0</td>\n",
       "      <td>0</td>\n",
       "      <td>0</td>\n",
       "      <td>0</td>\n",
       "      <td>0</td>\n",
       "      <td>0</td>\n",
       "      <td>...</td>\n",
       "      <td>0</td>\n",
       "      <td>0</td>\n",
       "      <td>0</td>\n",
       "      <td>0</td>\n",
       "      <td>0</td>\n",
       "      <td>0</td>\n",
       "      <td>0</td>\n",
       "      <td>0</td>\n",
       "      <td>0</td>\n",
       "      <td>0</td>\n",
       "    </tr>\n",
       "    <tr>\n",
       "      <th>2</th>\n",
       "      <td>0</td>\n",
       "      <td>0</td>\n",
       "      <td>0</td>\n",
       "      <td>0</td>\n",
       "      <td>0</td>\n",
       "      <td>0</td>\n",
       "      <td>0</td>\n",
       "      <td>0</td>\n",
       "      <td>0</td>\n",
       "      <td>0</td>\n",
       "      <td>...</td>\n",
       "      <td>0</td>\n",
       "      <td>0</td>\n",
       "      <td>0</td>\n",
       "      <td>0</td>\n",
       "      <td>0</td>\n",
       "      <td>0</td>\n",
       "      <td>0</td>\n",
       "      <td>0</td>\n",
       "      <td>0</td>\n",
       "      <td>0</td>\n",
       "    </tr>\n",
       "    <tr>\n",
       "      <th>3</th>\n",
       "      <td>0</td>\n",
       "      <td>0</td>\n",
       "      <td>0</td>\n",
       "      <td>0</td>\n",
       "      <td>0</td>\n",
       "      <td>0</td>\n",
       "      <td>0</td>\n",
       "      <td>0</td>\n",
       "      <td>0</td>\n",
       "      <td>0</td>\n",
       "      <td>...</td>\n",
       "      <td>0</td>\n",
       "      <td>0</td>\n",
       "      <td>0</td>\n",
       "      <td>0</td>\n",
       "      <td>0</td>\n",
       "      <td>0</td>\n",
       "      <td>0</td>\n",
       "      <td>0</td>\n",
       "      <td>0</td>\n",
       "      <td>0</td>\n",
       "    </tr>\n",
       "    <tr>\n",
       "      <th>4</th>\n",
       "      <td>0</td>\n",
       "      <td>0</td>\n",
       "      <td>0</td>\n",
       "      <td>0</td>\n",
       "      <td>0</td>\n",
       "      <td>0</td>\n",
       "      <td>0</td>\n",
       "      <td>0</td>\n",
       "      <td>0</td>\n",
       "      <td>0</td>\n",
       "      <td>...</td>\n",
       "      <td>0</td>\n",
       "      <td>0</td>\n",
       "      <td>0</td>\n",
       "      <td>0</td>\n",
       "      <td>0</td>\n",
       "      <td>0</td>\n",
       "      <td>0</td>\n",
       "      <td>0</td>\n",
       "      <td>0</td>\n",
       "      <td>0</td>\n",
       "    </tr>\n",
       "  </tbody>\n",
       "</table>\n",
       "<p>5 rows × 784 columns</p>\n",
       "</div>"
      ],
      "text/plain": [
       "   pixel0  pixel1  pixel2  pixel3  pixel4  pixel5  pixel6  pixel7  pixel8  \\\n",
       "0       0       0       0       0       0       0       0       0       0   \n",
       "1       0       0       0       0       0       0       0       0       0   \n",
       "2       0       0       0       0       0       0       0       0       0   \n",
       "3       0       0       0       0       0       0       0       0       0   \n",
       "4       0       0       0       0       0       0       0       0       0   \n",
       "\n",
       "   pixel9  ...  pixel774  pixel775  pixel776  pixel777  pixel778  pixel779  \\\n",
       "0       0  ...         0         0         0         0         0         0   \n",
       "1       0  ...         0         0         0         0         0         0   \n",
       "2       0  ...         0         0         0         0         0         0   \n",
       "3       0  ...         0         0         0         0         0         0   \n",
       "4       0  ...         0         0         0         0         0         0   \n",
       "\n",
       "   pixel780  pixel781  pixel782  pixel783  \n",
       "0         0         0         0         0  \n",
       "1         0         0         0         0  \n",
       "2         0         0         0         0  \n",
       "3         0         0         0         0  \n",
       "4         0         0         0         0  \n",
       "\n",
       "[5 rows x 784 columns]"
      ]
     },
     "metadata": {},
     "output_type": "display_data"
    }
   ],
   "source": [
    "# Preview Data\n",
    "\n",
    "print(\"First few rows of training data:\")\n",
    "display(train_df.head())\n",
    "\n",
    "print(\"First few rows of test data:\")\n",
    "display(test_df.head())"
   ]
  },
  {
   "cell_type": "code",
   "execution_count": null,
   "metadata": {
    "execution": {
     "iopub.execute_input": "2025-06-20T19:39:49.601646Z",
     "iopub.status.busy": "2025-06-20T19:39:49.600896Z",
     "iopub.status.idle": "2025-06-20T19:39:49.659710Z",
     "shell.execute_reply": "2025-06-20T19:39:49.658968Z",
     "shell.execute_reply.started": "2025-06-20T19:39:49.601619Z"
    },
    "trusted": true
   },
   "outputs": [
    {
     "name": "stdout",
     "output_type": "stream",
     "text": [
      "Missing values in training data: 0\n",
      "Missing values in test data: 0\n"
     ]
    }
   ],
   "source": [
    "# Missing Values Check\n",
    "print(\"Missing values in training data:\", train_df.isnull().sum().sum())\n",
    "print(\"Missing values in test data:\", test_df.isnull().sum().sum())\n"
   ]
  },
  {
   "cell_type": "code",
   "execution_count": null,
   "metadata": {
    "execution": {
     "iopub.execute_input": "2025-06-20T19:39:50.453325Z",
     "iopub.status.busy": "2025-06-20T19:39:50.453056Z",
     "iopub.status.idle": "2025-06-20T19:39:50.472337Z",
     "shell.execute_reply": "2025-06-20T19:39:50.471561Z",
     "shell.execute_reply.started": "2025-06-20T19:39:50.453307Z"
    },
    "trusted": true
   },
   "outputs": [
    {
     "data": {
      "text/html": [
       "<div>\n",
       "<style scoped>\n",
       "    .dataframe tbody tr th:only-of-type {\n",
       "        vertical-align: middle;\n",
       "    }\n",
       "\n",
       "    .dataframe tbody tr th {\n",
       "        vertical-align: top;\n",
       "    }\n",
       "\n",
       "    .dataframe thead th {\n",
       "        text-align: right;\n",
       "    }\n",
       "</style>\n",
       "<table border=\"1\" class=\"dataframe\">\n",
       "  <thead>\n",
       "    <tr style=\"text-align: right;\">\n",
       "      <th></th>\n",
       "      <th>label</th>\n",
       "      <th>pixel0</th>\n",
       "      <th>pixel1</th>\n",
       "      <th>pixel2</th>\n",
       "      <th>pixel3</th>\n",
       "      <th>pixel4</th>\n",
       "      <th>pixel5</th>\n",
       "      <th>pixel6</th>\n",
       "      <th>pixel7</th>\n",
       "      <th>pixel8</th>\n",
       "      <th>...</th>\n",
       "      <th>pixel774</th>\n",
       "      <th>pixel775</th>\n",
       "      <th>pixel776</th>\n",
       "      <th>pixel777</th>\n",
       "      <th>pixel778</th>\n",
       "      <th>pixel779</th>\n",
       "      <th>pixel780</th>\n",
       "      <th>pixel781</th>\n",
       "      <th>pixel782</th>\n",
       "      <th>pixel783</th>\n",
       "    </tr>\n",
       "  </thead>\n",
       "  <tbody>\n",
       "    <tr>\n",
       "      <th>0</th>\n",
       "      <td>1</td>\n",
       "      <td>0</td>\n",
       "      <td>0</td>\n",
       "      <td>0</td>\n",
       "      <td>0</td>\n",
       "      <td>0</td>\n",
       "      <td>0</td>\n",
       "      <td>0</td>\n",
       "      <td>0</td>\n",
       "      <td>0</td>\n",
       "      <td>...</td>\n",
       "      <td>0</td>\n",
       "      <td>0</td>\n",
       "      <td>0</td>\n",
       "      <td>0</td>\n",
       "      <td>0</td>\n",
       "      <td>0</td>\n",
       "      <td>0</td>\n",
       "      <td>0</td>\n",
       "      <td>0</td>\n",
       "      <td>0</td>\n",
       "    </tr>\n",
       "    <tr>\n",
       "      <th>1</th>\n",
       "      <td>0</td>\n",
       "      <td>0</td>\n",
       "      <td>0</td>\n",
       "      <td>0</td>\n",
       "      <td>0</td>\n",
       "      <td>0</td>\n",
       "      <td>0</td>\n",
       "      <td>0</td>\n",
       "      <td>0</td>\n",
       "      <td>0</td>\n",
       "      <td>...</td>\n",
       "      <td>0</td>\n",
       "      <td>0</td>\n",
       "      <td>0</td>\n",
       "      <td>0</td>\n",
       "      <td>0</td>\n",
       "      <td>0</td>\n",
       "      <td>0</td>\n",
       "      <td>0</td>\n",
       "      <td>0</td>\n",
       "      <td>0</td>\n",
       "    </tr>\n",
       "    <tr>\n",
       "      <th>2</th>\n",
       "      <td>1</td>\n",
       "      <td>0</td>\n",
       "      <td>0</td>\n",
       "      <td>0</td>\n",
       "      <td>0</td>\n",
       "      <td>0</td>\n",
       "      <td>0</td>\n",
       "      <td>0</td>\n",
       "      <td>0</td>\n",
       "      <td>0</td>\n",
       "      <td>...</td>\n",
       "      <td>0</td>\n",
       "      <td>0</td>\n",
       "      <td>0</td>\n",
       "      <td>0</td>\n",
       "      <td>0</td>\n",
       "      <td>0</td>\n",
       "      <td>0</td>\n",
       "      <td>0</td>\n",
       "      <td>0</td>\n",
       "      <td>0</td>\n",
       "    </tr>\n",
       "    <tr>\n",
       "      <th>3</th>\n",
       "      <td>4</td>\n",
       "      <td>0</td>\n",
       "      <td>0</td>\n",
       "      <td>0</td>\n",
       "      <td>0</td>\n",
       "      <td>0</td>\n",
       "      <td>0</td>\n",
       "      <td>0</td>\n",
       "      <td>0</td>\n",
       "      <td>0</td>\n",
       "      <td>...</td>\n",
       "      <td>0</td>\n",
       "      <td>0</td>\n",
       "      <td>0</td>\n",
       "      <td>0</td>\n",
       "      <td>0</td>\n",
       "      <td>0</td>\n",
       "      <td>0</td>\n",
       "      <td>0</td>\n",
       "      <td>0</td>\n",
       "      <td>0</td>\n",
       "    </tr>\n",
       "    <tr>\n",
       "      <th>4</th>\n",
       "      <td>0</td>\n",
       "      <td>0</td>\n",
       "      <td>0</td>\n",
       "      <td>0</td>\n",
       "      <td>0</td>\n",
       "      <td>0</td>\n",
       "      <td>0</td>\n",
       "      <td>0</td>\n",
       "      <td>0</td>\n",
       "      <td>0</td>\n",
       "      <td>...</td>\n",
       "      <td>0</td>\n",
       "      <td>0</td>\n",
       "      <td>0</td>\n",
       "      <td>0</td>\n",
       "      <td>0</td>\n",
       "      <td>0</td>\n",
       "      <td>0</td>\n",
       "      <td>0</td>\n",
       "      <td>0</td>\n",
       "      <td>0</td>\n",
       "    </tr>\n",
       "  </tbody>\n",
       "</table>\n",
       "<p>5 rows × 785 columns</p>\n",
       "</div>"
      ],
      "text/plain": [
       "   label  pixel0  pixel1  pixel2  pixel3  pixel4  pixel5  pixel6  pixel7  \\\n",
       "0      1       0       0       0       0       0       0       0       0   \n",
       "1      0       0       0       0       0       0       0       0       0   \n",
       "2      1       0       0       0       0       0       0       0       0   \n",
       "3      4       0       0       0       0       0       0       0       0   \n",
       "4      0       0       0       0       0       0       0       0       0   \n",
       "\n",
       "   pixel8  ...  pixel774  pixel775  pixel776  pixel777  pixel778  pixel779  \\\n",
       "0       0  ...         0         0         0         0         0         0   \n",
       "1       0  ...         0         0         0         0         0         0   \n",
       "2       0  ...         0         0         0         0         0         0   \n",
       "3       0  ...         0         0         0         0         0         0   \n",
       "4       0  ...         0         0         0         0         0         0   \n",
       "\n",
       "   pixel780  pixel781  pixel782  pixel783  \n",
       "0         0         0         0         0  \n",
       "1         0         0         0         0  \n",
       "2         0         0         0         0  \n",
       "3         0         0         0         0  \n",
       "4         0         0         0         0  \n",
       "\n",
       "[5 rows x 785 columns]"
      ]
     },
     "metadata": {},
     "output_type": "display_data"
    },
    {
     "data": {
      "text/html": [
       "<div>\n",
       "<style scoped>\n",
       "    .dataframe tbody tr th:only-of-type {\n",
       "        vertical-align: middle;\n",
       "    }\n",
       "\n",
       "    .dataframe tbody tr th {\n",
       "        vertical-align: top;\n",
       "    }\n",
       "\n",
       "    .dataframe thead th {\n",
       "        text-align: right;\n",
       "    }\n",
       "</style>\n",
       "<table border=\"1\" class=\"dataframe\">\n",
       "  <thead>\n",
       "    <tr style=\"text-align: right;\">\n",
       "      <th></th>\n",
       "      <th>pixel0</th>\n",
       "      <th>pixel1</th>\n",
       "      <th>pixel2</th>\n",
       "      <th>pixel3</th>\n",
       "      <th>pixel4</th>\n",
       "      <th>pixel5</th>\n",
       "      <th>pixel6</th>\n",
       "      <th>pixel7</th>\n",
       "      <th>pixel8</th>\n",
       "      <th>pixel9</th>\n",
       "      <th>...</th>\n",
       "      <th>pixel774</th>\n",
       "      <th>pixel775</th>\n",
       "      <th>pixel776</th>\n",
       "      <th>pixel777</th>\n",
       "      <th>pixel778</th>\n",
       "      <th>pixel779</th>\n",
       "      <th>pixel780</th>\n",
       "      <th>pixel781</th>\n",
       "      <th>pixel782</th>\n",
       "      <th>pixel783</th>\n",
       "    </tr>\n",
       "  </thead>\n",
       "  <tbody>\n",
       "    <tr>\n",
       "      <th>0</th>\n",
       "      <td>0</td>\n",
       "      <td>0</td>\n",
       "      <td>0</td>\n",
       "      <td>0</td>\n",
       "      <td>0</td>\n",
       "      <td>0</td>\n",
       "      <td>0</td>\n",
       "      <td>0</td>\n",
       "      <td>0</td>\n",
       "      <td>0</td>\n",
       "      <td>...</td>\n",
       "      <td>0</td>\n",
       "      <td>0</td>\n",
       "      <td>0</td>\n",
       "      <td>0</td>\n",
       "      <td>0</td>\n",
       "      <td>0</td>\n",
       "      <td>0</td>\n",
       "      <td>0</td>\n",
       "      <td>0</td>\n",
       "      <td>0</td>\n",
       "    </tr>\n",
       "    <tr>\n",
       "      <th>1</th>\n",
       "      <td>0</td>\n",
       "      <td>0</td>\n",
       "      <td>0</td>\n",
       "      <td>0</td>\n",
       "      <td>0</td>\n",
       "      <td>0</td>\n",
       "      <td>0</td>\n",
       "      <td>0</td>\n",
       "      <td>0</td>\n",
       "      <td>0</td>\n",
       "      <td>...</td>\n",
       "      <td>0</td>\n",
       "      <td>0</td>\n",
       "      <td>0</td>\n",
       "      <td>0</td>\n",
       "      <td>0</td>\n",
       "      <td>0</td>\n",
       "      <td>0</td>\n",
       "      <td>0</td>\n",
       "      <td>0</td>\n",
       "      <td>0</td>\n",
       "    </tr>\n",
       "    <tr>\n",
       "      <th>2</th>\n",
       "      <td>0</td>\n",
       "      <td>0</td>\n",
       "      <td>0</td>\n",
       "      <td>0</td>\n",
       "      <td>0</td>\n",
       "      <td>0</td>\n",
       "      <td>0</td>\n",
       "      <td>0</td>\n",
       "      <td>0</td>\n",
       "      <td>0</td>\n",
       "      <td>...</td>\n",
       "      <td>0</td>\n",
       "      <td>0</td>\n",
       "      <td>0</td>\n",
       "      <td>0</td>\n",
       "      <td>0</td>\n",
       "      <td>0</td>\n",
       "      <td>0</td>\n",
       "      <td>0</td>\n",
       "      <td>0</td>\n",
       "      <td>0</td>\n",
       "    </tr>\n",
       "    <tr>\n",
       "      <th>3</th>\n",
       "      <td>0</td>\n",
       "      <td>0</td>\n",
       "      <td>0</td>\n",
       "      <td>0</td>\n",
       "      <td>0</td>\n",
       "      <td>0</td>\n",
       "      <td>0</td>\n",
       "      <td>0</td>\n",
       "      <td>0</td>\n",
       "      <td>0</td>\n",
       "      <td>...</td>\n",
       "      <td>0</td>\n",
       "      <td>0</td>\n",
       "      <td>0</td>\n",
       "      <td>0</td>\n",
       "      <td>0</td>\n",
       "      <td>0</td>\n",
       "      <td>0</td>\n",
       "      <td>0</td>\n",
       "      <td>0</td>\n",
       "      <td>0</td>\n",
       "    </tr>\n",
       "    <tr>\n",
       "      <th>4</th>\n",
       "      <td>0</td>\n",
       "      <td>0</td>\n",
       "      <td>0</td>\n",
       "      <td>0</td>\n",
       "      <td>0</td>\n",
       "      <td>0</td>\n",
       "      <td>0</td>\n",
       "      <td>0</td>\n",
       "      <td>0</td>\n",
       "      <td>0</td>\n",
       "      <td>...</td>\n",
       "      <td>0</td>\n",
       "      <td>0</td>\n",
       "      <td>0</td>\n",
       "      <td>0</td>\n",
       "      <td>0</td>\n",
       "      <td>0</td>\n",
       "      <td>0</td>\n",
       "      <td>0</td>\n",
       "      <td>0</td>\n",
       "      <td>0</td>\n",
       "    </tr>\n",
       "  </tbody>\n",
       "</table>\n",
       "<p>5 rows × 784 columns</p>\n",
       "</div>"
      ],
      "text/plain": [
       "   pixel0  pixel1  pixel2  pixel3  pixel4  pixel5  pixel6  pixel7  pixel8  \\\n",
       "0       0       0       0       0       0       0       0       0       0   \n",
       "1       0       0       0       0       0       0       0       0       0   \n",
       "2       0       0       0       0       0       0       0       0       0   \n",
       "3       0       0       0       0       0       0       0       0       0   \n",
       "4       0       0       0       0       0       0       0       0       0   \n",
       "\n",
       "   pixel9  ...  pixel774  pixel775  pixel776  pixel777  pixel778  pixel779  \\\n",
       "0       0  ...         0         0         0         0         0         0   \n",
       "1       0  ...         0         0         0         0         0         0   \n",
       "2       0  ...         0         0         0         0         0         0   \n",
       "3       0  ...         0         0         0         0         0         0   \n",
       "4       0  ...         0         0         0         0         0         0   \n",
       "\n",
       "   pixel780  pixel781  pixel782  pixel783  \n",
       "0         0         0         0         0  \n",
       "1         0         0         0         0  \n",
       "2         0         0         0         0  \n",
       "3         0         0         0         0  \n",
       "4         0         0         0         0  \n",
       "\n",
       "[5 rows x 784 columns]"
      ]
     },
     "metadata": {},
     "output_type": "display_data"
    }
   ],
   "source": [
    "# Basic Info\n",
    "display(train_df.head())\n",
    "display(test_df.head())"
   ]
  },
  {
   "cell_type": "code",
   "execution_count": null,
   "metadata": {
    "execution": {
     "iopub.execute_input": "2025-06-20T19:39:53.000901Z",
     "iopub.status.busy": "2025-06-20T19:39:53.000367Z",
     "iopub.status.idle": "2025-06-20T19:39:53.057911Z",
     "shell.execute_reply": "2025-06-20T19:39:53.057336Z",
     "shell.execute_reply.started": "2025-06-20T19:39:53.000873Z"
    },
    "trusted": true
   },
   "outputs": [
    {
     "name": "stdout",
     "output_type": "stream",
     "text": [
      "Missing values in training data:\n",
      "0\n",
      "Missing values in test data:\n",
      "0\n"
     ]
    }
   ],
   "source": [
    "# Check for Missing Values\n",
    "print(\"Missing values in training data:\")\n",
    "print(train_df.isnull().sum().sum())\n",
    "\n",
    "print(\"Missing values in test data:\")\n",
    "print(test_df.isnull().sum().sum())"
   ]
  },
  {
   "cell_type": "code",
   "execution_count": null,
   "metadata": {
    "execution": {
     "iopub.execute_input": "2025-06-20T19:39:54.827396Z",
     "iopub.status.busy": "2025-06-20T19:39:54.826707Z",
     "iopub.status.idle": "2025-06-20T19:39:55.052194Z",
     "shell.execute_reply": "2025-06-20T19:39:55.051411Z",
     "shell.execute_reply.started": "2025-06-20T19:39:54.827374Z"
    },
    "trusted": true
   },
   "outputs": [
    {
     "data": {
      "image/png": "[encoded data removed]",
      "text/plain": [
       "<Figure size 1000x600 with 1 Axes>"
      ]
     },
     "metadata": {},
     "output_type": "display_data"
    }
   ],
   "source": [
    "# Target Distribution\n",
    "\n",
    "plt.figure()\n",
    "sns.countplot(x=train_df[\"label\"], palette=\"crest\")\n",
    "plt.title(\"Digit Class Distribution\")\n",
    "plt.xlabel(\"Digit\")\n",
    "plt.ylabel(\"Count\")\n",
    "plt.tight_layout()\n",
    "plt.show()"
   ]
  },
  {
   "cell_type": "code",
   "execution_count": null,
   "metadata": {
    "execution": {
     "iopub.execute_input": "2025-06-20T19:39:55.417931Z",
     "iopub.status.busy": "2025-06-20T19:39:55.417642Z",
     "iopub.status.idle": "2025-06-20T19:39:57.422266Z",
     "shell.execute_reply": "2025-06-20T19:39:57.421485Z",
     "shell.execute_reply.started": "2025-06-20T19:39:55.417912Z"
    },
    "trusted": true
   },
   "outputs": [
    {
     "data": {
      "image/png": "[encoded data removed]",
      "text/plain": [
       "<Figure size 1200x400 with 12 Axes>"
      ]
     },
     "metadata": {},
     "output_type": "display_data"
    },
    {
     "data": {
      "image/png": "[encoded data removed]",
      "text/plain": [
       "<Figure size 1200x400 with 12 Axes>"
      ]
     },
     "metadata": {},
     "output_type": "display_data"
    }
   ],
   "source": [
    "# Visualize Sample Digits\n",
    "\n",
    "def plot_digits(images, labels=None, num=12, title=\"Sample Digits\"):\n",
    "    \"\"\"\n",
    "    Display a grid of digit images.\n",
    "\n",
    "    Parameters:\n",
    "    - images: ndarray of shape (n, 784)\n",
    "    - labels: optional array of labels\n",
    "    - num: number of images to show\n",
    "    \"\"\"\n",
    "    plt.figure(figsize=(12, 4))\n",
    "    for i in range(num):\n",
    "        plt.subplot(2, num // 2, i + 1)\n",
    "        plt.imshow(images[i].reshape(28, 28), cmap=\"gray\")\n",
    "        if labels is not None:\n",
    "            plt.title(f\"Label: {labels[i]}\")\n",
    "        plt.axis(\"off\")\n",
    "    plt.suptitle(title, fontsize=14)\n",
    "    plt.tight_layout()\n",
    "    plt.show()\n",
    "\n",
    "# Extract raw image arrays\n",
    "X_train = train_df.drop(\"label\", axis=1).values\n",
    "y_train = train_df[\"label\"].values\n",
    "X_test = test_df.values\n",
    "\n",
    "plot_digits(X_train, y_train, title=\"Sample Training Digits\")\n",
    "plot_digits(X_test, labels=None, title=\"Sample Test Digits (Unlabeled)\")"
   ]
  },
  {
   "cell_type": "code",
   "execution_count": null,
   "metadata": {
    "execution": {
     "iopub.execute_input": "2025-06-20T19:39:59.131488Z",
     "iopub.status.busy": "2025-06-20T19:39:59.130965Z",
     "iopub.status.idle": "2025-06-20T19:39:59.988327Z",
     "shell.execute_reply": "2025-06-20T19:39:59.987640Z",
     "shell.execute_reply.started": "2025-06-20T19:39:59.131466Z"
    },
    "trusted": true
   },
   "outputs": [
    {
     "name": "stdout",
     "output_type": "stream",
     "text": [
      "Pixel Mean: 33.41\n",
      "Pixel Std Dev: 78.68\n",
      "Pixel Range: 0 to 255\n"
     ]
    }
   ],
   "source": [
    "# Pixel Value Summary\n",
    "\n",
    "X_pixels = train_df.drop(\"label\", axis=1)\n",
    "\n",
    "pixel_mean = X_pixels.mean().mean()\n",
    "pixel_std = X_pixels.stack().std()\n",
    "pixel_min = X_pixels.min().min()\n",
    "pixel_max = X_pixels.max().max()\n",
    "\n",
    "print(f\"Pixel Mean: {pixel_mean:.2f}\")\n",
    "print(f\"Pixel Std Dev: {pixel_std:.2f}\")\n",
    "print(f\"Pixel Range: {pixel_min} to {pixel_max}\")"
   ]
  },
  {
   "cell_type": "code",
   "execution_count": null,
   "metadata": {
    "execution": {
     "iopub.execute_input": "2025-06-20T19:40:02.237952Z",
     "iopub.status.busy": "2025-06-20T19:40:02.237385Z",
     "iopub.status.idle": "2025-06-20T19:40:02.320025Z",
     "shell.execute_reply": "2025-06-20T19:40:02.319352Z",
     "shell.execute_reply.started": "2025-06-20T19:40:02.237931Z"
    },
    "trusted": true
   },
   "outputs": [
    {
     "name": "stdout",
     "output_type": "stream",
     "text": [
      "Extracted X, y, X_test\n",
      "X shape: (42000, 784) | y shape: (42000,) | Test shape: (28000, 784)\n"
     ]
    }
   ],
   "source": [
    "# Extract Features & Labels\n",
    "\n",
    "X = train_df.drop(\"label\", axis=1).values\n",
    "y = train_df[\"label\"].values\n",
    "X_test = test_df.values\n",
    "\n",
    "print(\"Extracted X, y, X_test\")\n",
    "print(f\"X shape: {X.shape} | y shape: {y.shape} | Test shape: {X_test.shape}\")"
   ]
  },
  {
   "cell_type": "code",
   "execution_count": null,
   "metadata": {
    "execution": {
     "iopub.execute_input": "2025-06-20T19:40:02.828323Z",
     "iopub.status.busy": "2025-06-20T19:40:02.828061Z",
     "iopub.status.idle": "2025-06-20T19:40:03.062699Z",
     "shell.execute_reply": "2025-06-20T19:40:03.061994Z",
     "shell.execute_reply.started": "2025-06-20T19:40:02.828305Z"
    },
    "trusted": true
   },
   "outputs": [
    {
     "name": "stdout",
     "output_type": "stream",
     "text": [
      "Normalized pixel values. Range now: 0.0 to 1.0\n"
     ]
    }
   ],
   "source": [
    "# Normalize Pixels\n",
    "\n",
    "X = X / 255.0\n",
    "X_test = X_test / 255.0\n",
    "\n",
    "print(f\"Normalized pixel values. Range now: {X.min():.1f} to {X.max():.1f}\")\n"
   ]
  },
  {
   "cell_type": "code",
   "execution_count": null,
   "metadata": {
    "execution": {
     "iopub.execute_input": "2025-06-20T19:40:05.177103Z",
     "iopub.status.busy": "2025-06-20T19:40:05.176819Z",
     "iopub.status.idle": "2025-06-20T19:40:05.181456Z",
     "shell.execute_reply": "2025-06-20T19:40:05.180886Z",
     "shell.execute_reply.started": "2025-06-20T19:40:05.177083Z"
    },
    "trusted": true
   },
   "outputs": [
    {
     "name": "stdout",
     "output_type": "stream",
     "text": [
      "Reshaped for CNN input.\n",
      "X shape: (42000, 28, 28, 1) | X_test shape: (28000, 28, 28, 1)\n"
     ]
    }
   ],
   "source": [
    "# Reshape for CNNs (n, 784) ➜ (n, 28, 28, 1)\n",
    "\n",
    "X = X.reshape(-1, 28, 28, 1)\n",
    "X_test = X_test.reshape(-1, 28, 28, 1)\n",
    "\n",
    "print(\"Reshaped for CNN input.\")\n",
    "print(f\"X shape: {X.shape} | X_test shape: {X_test.shape}\")\n"
   ]
  },
  {
   "cell_type": "code",
   "execution_count": null,
   "metadata": {
    "execution": {
     "iopub.execute_input": "2025-06-20T19:40:11.498552Z",
     "iopub.status.busy": "2025-06-20T19:40:11.498281Z",
     "iopub.status.idle": "2025-06-20T19:40:11.912082Z",
     "shell.execute_reply": "2025-06-20T19:40:11.911301Z",
     "shell.execute_reply.started": "2025-06-20T19:40:11.498531Z"
    },
    "trusted": true
   },
   "outputs": [
    {
     "name": "stdout",
     "output_type": "stream",
     "text": [
      "Train/Val Split complete.\n",
      "Train: (37800, 28, 28, 1), Labels: (37800,)\n",
      "Val:   (4200, 28, 28, 1), Labels: (4200,)\n"
     ]
    }
   ],
   "source": [
    "# Split Train/Validation Set\n",
    "\n",
    "X_train, X_val, y_train, y_val = train_test_split(\n",
    "    X, y, test_size=0.1, stratify=y, random_state=42\n",
    ")\n",
    "\n",
    "print(f\"Train/Val Split complete.\")\n",
    "print(f\"Train: {X_train.shape}, Labels: {y_train.shape}\")\n",
    "print(f\"Val:   {X_val.shape}, Labels: {y_val.shape}\")"
   ]
  },
  {
   "cell_type": "code",
   "execution_count": null,
   "metadata": {
    "execution": {
     "iopub.execute_input": "2025-06-20T20:14:01.130863Z",
     "iopub.status.busy": "2025-06-20T20:14:01.130163Z",
     "iopub.status.idle": "2025-06-20T20:14:01.136463Z",
     "shell.execute_reply": "2025-06-20T20:14:01.135748Z",
     "shell.execute_reply.started": "2025-06-20T20:14:01.130825Z"
    },
    "trusted": true
   },
   "outputs": [
    {
     "name": "stdout",
     "output_type": "stream",
     "text": [
      "One-hot encoding done. Sample: [0. 0. 0. 1. 0. 0. 0. 0. 0. 0.]\n"
     ]
    }
   ],
   "source": [
    "# One-Hot Encode Labels (for CNN softmax)\n",
    "\n",
    "y_train_cat = to_categorical(y_train, num_classes=10)\n",
    "y_val_cat = to_categorical(y_val, num_classes=10)\n",
    "\n",
    "print(f\"One-hot encoding done. Sample: {y_train_cat[0]}\")"
   ]
  },
  {
   "cell_type": "code",
   "execution_count": null,
   "metadata": {
    "execution": {
     "iopub.execute_input": "2025-06-20T20:14:04.097008Z",
     "iopub.status.busy": "2025-06-20T20:14:04.096749Z",
     "iopub.status.idle": "2025-06-20T20:14:05.500629Z",
     "shell.execute_reply": "2025-06-20T20:14:05.499873Z",
     "shell.execute_reply.started": "2025-06-20T20:14:04.096990Z"
    },
    "trusted": true
   },
   "outputs": [
    {
     "data": {
      "image/png": "[encoded data removed]",
      "text/plain": [
       "<Figure size 1200x400 with 12 Axes>"
      ]
     },
     "metadata": {},
     "output_type": "display_data"
    }
   ],
   "source": [
    "# Visual Check\n",
    "\n",
    "def plot_sample_grid(images, labels, num=12):\n",
    "    plt.figure(figsize=(12, 4))\n",
    "    for i in range(num):\n",
    "        plt.subplot(2, num // 2, i + 1)\n",
    "        plt.imshow(images[i].reshape(28, 28), cmap=\"gray\")\n",
    "        plt.title(f\"Label: {np.argmax(labels[i])}\")\n",
    "        plt.axis(\"off\")\n",
    "    plt.tight_layout()\n",
    "    plt.show()\n",
    "\n",
    "plot_sample_grid(X_train, y_train_cat, num=12)\n"
   ]
  },
  {
   "cell_type": "code",
   "execution_count": 89,
   "metadata": {
    "execution": {
     "iopub.execute_input": "2025-06-20T20:14:07.702084Z",
     "iopub.status.busy": "2025-06-20T20:14:07.701780Z",
     "iopub.status.idle": "2025-06-20T20:14:07.791193Z",
     "shell.execute_reply": "2025-06-20T20:14:07.790630Z",
     "shell.execute_reply.started": "2025-06-20T20:14:07.702064Z"
    },
    "trusted": true
   },
   "outputs": [],
   "source": [
    "datagen = ImageDataGenerator(\n",
    "    rotation_range=10,\n",
    "    zoom_range=0.1,\n",
    "    width_shift_range=0.1,\n",
    "    height_shift_range=0.1\n",
    ")\n",
    "datagen.fit(X_train)"
   ]
  },
  {
   "cell_type": "code",
   "execution_count": 90,
   "metadata": {
    "execution": {
     "iopub.execute_input": "2025-06-20T20:14:11.393423Z",
     "iopub.status.busy": "2025-06-20T20:14:11.393165Z",
     "iopub.status.idle": "2025-06-20T20:14:11.480357Z",
     "shell.execute_reply": "2025-06-20T20:14:11.479869Z",
     "shell.execute_reply.started": "2025-06-20T20:14:11.393404Z"
    },
    "trusted": true
   },
   "outputs": [],
   "source": [
    "# CNN Model Architecture\n",
    "model = Sequential([\n",
    "    Conv2D(32, (3, 3), activation='relu', input_shape=(28, 28, 1)),\n",
    "    BatchNormalization(),\n",
    "    Conv2D(32, (3, 3), activation='relu'),\n",
    "    BatchNormalization(),\n",
    "    MaxPooling2D(),\n",
    "    Dropout(0.25),\n",
    "\n",
    "    Conv2D(64, (3, 3), activation='relu'),\n",
    "    BatchNormalization(),\n",
    "    Conv2D(64, (3, 3), activation='relu'),\n",
    "    BatchNormalization(),\n",
    "    MaxPooling2D(),\n",
    "    Dropout(0.25),\n",
    "\n",
    "    Flatten(),\n",
    "    Dense(256, activation='relu'),\n",
    "    BatchNormalization(),\n",
    "    Dropout(0.5),\n",
    "    Dense(10, activation='softmax')  # 10-class classification\n",
    "])\n"
   ]
  },
  {
   "cell_type": "code",
   "execution_count": 91,
   "metadata": {
    "execution": {
     "iopub.execute_input": "2025-06-20T20:14:14.564804Z",
     "iopub.status.busy": "2025-06-20T20:14:14.564156Z",
     "iopub.status.idle": "2025-06-20T20:14:14.572595Z",
     "shell.execute_reply": "2025-06-20T20:14:14.572061Z",
     "shell.execute_reply.started": "2025-06-20T20:14:14.564779Z"
    },
    "trusted": true
   },
   "outputs": [],
   "source": [
    "# Compile Model\n",
    "model.compile(\n",
    "    optimizer=\"adam\",\n",
    "    loss=\"categorical_crossentropy\",\n",
    "    metrics=[\"accuracy\"]\n",
    ")\n"
   ]
  },
  {
   "cell_type": "code",
   "execution_count": 92,
   "metadata": {
    "execution": {
     "iopub.execute_input": "2025-06-20T20:14:15.119107Z",
     "iopub.status.busy": "2025-06-20T20:14:15.118671Z",
     "iopub.status.idle": "2025-06-20T20:14:15.122654Z",
     "shell.execute_reply": "2025-06-20T20:14:15.121896Z",
     "shell.execute_reply.started": "2025-06-20T20:14:15.119085Z"
    },
    "trusted": true
   },
   "outputs": [],
   "source": [
    "# Callbacks for Training Control\n",
    "callbacks = [\n",
    "    EarlyStopping(patience=5, restore_best_weights=True),\n",
    "    ReduceLROnPlateau(patience=2, factor=0.5, verbose=1)\n",
    "]"
   ]
  },
  {
   "cell_type": "code",
   "execution_count": 93,
   "metadata": {
    "execution": {
     "iopub.execute_input": "2025-06-20T20:14:45.483472Z",
     "iopub.status.busy": "2025-06-20T20:14:45.482735Z",
     "iopub.status.idle": "2025-06-20T20:20:06.554768Z",
     "shell.execute_reply": "2025-06-20T20:20:06.554243Z",
     "shell.execute_reply.started": "2025-06-20T20:14:45.483447Z"
    },
    "trusted": true
   },
   "outputs": [
    {
     "name": "stdout",
     "output_type": "stream",
     "text": [
      "Epoch 1/30\n",
      "591/591 - 25s - 43ms/step - accuracy: 0.8675 - loss: 0.4326 - val_accuracy: 0.9776 - val_loss: 0.0678 - learning_rate: 0.0010\n",
      "Epoch 2/30\n",
      "591/591 - 10s - 17ms/step - accuracy: 0.9579 - loss: 0.1366 - val_accuracy: 0.9860 - val_loss: 0.0423 - learning_rate: 0.0010\n",
      "Epoch 3/30\n",
      "591/591 - 10s - 17ms/step - accuracy: 0.9668 - loss: 0.1041 - val_accuracy: 0.9898 - val_loss: 0.0339 - learning_rate: 0.0010\n",
      "Epoch 4/30\n",
      "591/591 - 10s - 18ms/step - accuracy: 0.9748 - loss: 0.0809 - val_accuracy: 0.9907 - val_loss: 0.0281 - learning_rate: 0.0010\n",
      "Epoch 5/30\n",
      "591/591 - 10s - 17ms/step - accuracy: 0.9768 - loss: 0.0762 - val_accuracy: 0.9940 - val_loss: 0.0202 - learning_rate: 0.0010\n",
      "Epoch 6/30\n",
      "591/591 - 10s - 17ms/step - accuracy: 0.9787 - loss: 0.0682 - val_accuracy: 0.9926 - val_loss: 0.0241 - learning_rate: 0.0010\n",
      "Epoch 7/30\n",
      "\n",
      "Epoch 7: ReduceLROnPlateau reducing learning rate to 0.0005000000237487257.\n",
      "591/591 - 10s - 18ms/step - accuracy: 0.9805 - loss: 0.0649 - val_accuracy: 0.9921 - val_loss: 0.0247 - learning_rate: 0.0010\n",
      "Epoch 8/30\n",
      "591/591 - 10s - 17ms/step - accuracy: 0.9844 - loss: 0.0488 - val_accuracy: 0.9943 - val_loss: 0.0196 - learning_rate: 5.0000e-04\n",
      "Epoch 9/30\n",
      "591/591 - 10s - 17ms/step - accuracy: 0.9859 - loss: 0.0464 - val_accuracy: 0.9931 - val_loss: 0.0225 - learning_rate: 5.0000e-04\n",
      "Epoch 10/30\n",
      "591/591 - 10s - 17ms/step - accuracy: 0.9867 - loss: 0.0443 - val_accuracy: 0.9960 - val_loss: 0.0142 - learning_rate: 5.0000e-04\n",
      "Epoch 11/30\n",
      "591/591 - 10s - 17ms/step - accuracy: 0.9878 - loss: 0.0406 - val_accuracy: 0.9948 - val_loss: 0.0161 - learning_rate: 5.0000e-04\n",
      "Epoch 12/30\n",
      "\n",
      "Epoch 12: ReduceLROnPlateau reducing learning rate to 0.0002500000118743628.\n",
      "591/591 - 10s - 17ms/step - accuracy: 0.9874 - loss: 0.0428 - val_accuracy: 0.9945 - val_loss: 0.0196 - learning_rate: 5.0000e-04\n",
      "Epoch 13/30\n",
      "591/591 - 10s - 17ms/step - accuracy: 0.9884 - loss: 0.0390 - val_accuracy: 0.9962 - val_loss: 0.0138 - learning_rate: 2.5000e-04\n",
      "Epoch 14/30\n",
      "591/591 - 10s - 17ms/step - accuracy: 0.9894 - loss: 0.0332 - val_accuracy: 0.9960 - val_loss: 0.0147 - learning_rate: 2.5000e-04\n",
      "Epoch 15/30\n",
      "591/591 - 10s - 17ms/step - accuracy: 0.9901 - loss: 0.0330 - val_accuracy: 0.9967 - val_loss: 0.0132 - learning_rate: 2.5000e-04\n",
      "Epoch 16/30\n",
      "591/591 - 10s - 18ms/step - accuracy: 0.9891 - loss: 0.0338 - val_accuracy: 0.9960 - val_loss: 0.0152 - learning_rate: 2.5000e-04\n",
      "Epoch 17/30\n",
      "\n",
      "Epoch 17: ReduceLROnPlateau reducing learning rate to 0.0001250000059371814.\n",
      "591/591 - 10s - 17ms/step - accuracy: 0.9913 - loss: 0.0308 - val_accuracy: 0.9971 - val_loss: 0.0133 - learning_rate: 2.5000e-04\n",
      "Epoch 18/30\n",
      "591/591 - 10s - 17ms/step - accuracy: 0.9914 - loss: 0.0266 - val_accuracy: 0.9971 - val_loss: 0.0130 - learning_rate: 1.2500e-04\n",
      "Epoch 19/30\n",
      "591/591 - 11s - 18ms/step - accuracy: 0.9913 - loss: 0.0271 - val_accuracy: 0.9971 - val_loss: 0.0136 - learning_rate: 1.2500e-04\n",
      "Epoch 20/30\n",
      "\n",
      "Epoch 20: ReduceLROnPlateau reducing learning rate to 6.25000029685907e-05.\n",
      "591/591 - 10s - 17ms/step - accuracy: 0.9921 - loss: 0.0250 - val_accuracy: 0.9971 - val_loss: 0.0132 - learning_rate: 1.2500e-04\n",
      "Epoch 21/30\n",
      "591/591 - 10s - 17ms/step - accuracy: 0.9923 - loss: 0.0238 - val_accuracy: 0.9967 - val_loss: 0.0133 - learning_rate: 6.2500e-05\n",
      "Epoch 22/30\n",
      "\n",
      "Epoch 22: ReduceLROnPlateau reducing learning rate to 3.125000148429535e-05.\n",
      "591/591 - 10s - 17ms/step - accuracy: 0.9930 - loss: 0.0240 - val_accuracy: 0.9964 - val_loss: 0.0131 - learning_rate: 6.2500e-05\n",
      "Epoch 23/30\n",
      "591/591 - 10s - 17ms/step - accuracy: 0.9928 - loss: 0.0234 - val_accuracy: 0.9967 - val_loss: 0.0127 - learning_rate: 3.1250e-05\n",
      "Epoch 24/30\n",
      "591/591 - 10s - 17ms/step - accuracy: 0.9922 - loss: 0.0238 - val_accuracy: 0.9964 - val_loss: 0.0126 - learning_rate: 3.1250e-05\n",
      "Epoch 25/30\n",
      "\n",
      "Epoch 25: ReduceLROnPlateau reducing learning rate to 1.5625000742147677e-05.\n",
      "591/591 - 10s - 17ms/step - accuracy: 0.9930 - loss: 0.0233 - val_accuracy: 0.9971 - val_loss: 0.0126 - learning_rate: 3.1250e-05\n",
      "Epoch 26/30\n",
      "591/591 - 10s - 17ms/step - accuracy: 0.9928 - loss: 0.0229 - val_accuracy: 0.9971 - val_loss: 0.0127 - learning_rate: 1.5625e-05\n",
      "Epoch 27/30\n",
      "\n",
      "Epoch 27: ReduceLROnPlateau reducing learning rate to 7.812500371073838e-06.\n",
      "591/591 - 10s - 17ms/step - accuracy: 0.9925 - loss: 0.0229 - val_accuracy: 0.9969 - val_loss: 0.0129 - learning_rate: 1.5625e-05\n",
      "Epoch 28/30\n",
      "591/591 - 10s - 18ms/step - accuracy: 0.9929 - loss: 0.0231 - val_accuracy: 0.9967 - val_loss: 0.0131 - learning_rate: 7.8125e-06\n",
      "Epoch 29/30\n",
      "\n",
      "Epoch 29: ReduceLROnPlateau reducing learning rate to 3.906250185536919e-06.\n",
      "591/591 - 10s - 17ms/step - accuracy: 0.9934 - loss: 0.0221 - val_accuracy: 0.9969 - val_loss: 0.0128 - learning_rate: 7.8125e-06\n",
      "Epoch 30/30\n",
      "591/591 - 10s - 17ms/step - accuracy: 0.9932 - loss: 0.0221 - val_accuracy: 0.9967 - val_loss: 0.0128 - learning_rate: 3.9063e-06\n"
     ]
    }
   ],
   "source": [
    "# Train Model\n",
    "history = model.fit(\n",
    "    datagen.flow(X_train, y_train_cat, batch_size=64),\n",
    "    validation_data=(X_val, y_val_cat),\n",
    "    epochs=30,\n",
    "    callbacks=callbacks,\n",
    "    verbose=2\n",
    ")"
   ]
  },
  {
   "cell_type": "code",
   "execution_count": null,
   "metadata": {
    "execution": {
     "iopub.execute_input": "2025-06-20T20:21:15.708545Z",
     "iopub.status.busy": "2025-06-20T20:21:15.707911Z",
     "iopub.status.idle": "2025-06-20T20:21:16.086228Z",
     "shell.execute_reply": "2025-06-20T20:21:16.085632Z",
     "shell.execute_reply.started": "2025-06-20T20:21:15.708520Z"
    },
    "trusted": true
   },
   "outputs": [
    {
     "name": "stdout",
     "output_type": "stream",
     "text": [
      "Final Validation Accuracy: 0.9971\n"
     ]
    }
   ],
   "source": [
    "# Evaluate on Validation Set\n",
    "val_loss, val_acc = model.evaluate(X_val, y_val_cat, verbose=0)\n",
    "print(f\"Final Validation Accuracy: {val_acc:.4f}\")"
   ]
  },
  {
   "cell_type": "code",
   "execution_count": 98,
   "metadata": {
    "execution": {
     "iopub.execute_input": "2025-06-20T20:21:34.551498Z",
     "iopub.status.busy": "2025-06-20T20:21:34.550812Z",
     "iopub.status.idle": "2025-06-20T20:21:36.624588Z",
     "shell.execute_reply": "2025-06-20T20:21:36.624012Z",
     "shell.execute_reply.started": "2025-06-20T20:21:34.551474Z"
    },
    "trusted": true
   },
   "outputs": [],
   "source": [
    "# Predict on Test Set\n",
    "preds = model.predict(X_test, verbose=0)\n",
    "labels = np.argmax(preds, axis=1)"
   ]
  },
  {
   "cell_type": "code",
   "execution_count": null,
   "metadata": {
    "execution": {
     "iopub.execute_input": "2025-06-20T20:22:16.280707Z",
     "iopub.status.busy": "2025-06-20T20:22:16.280160Z",
     "iopub.status.idle": "2025-06-20T20:22:16.739986Z",
     "shell.execute_reply": "2025-06-20T20:22:16.739330Z",
     "shell.execute_reply.started": "2025-06-20T20:22:16.280683Z"
    },
    "trusted": true
   },
   "outputs": [
    {
     "data": {
      "image/png": "[encoded data removed]",
      "text/plain": [
       "<Figure size 1200x400 with 2 Axes>"
      ]
     },
     "metadata": {},
     "output_type": "display_data"
    }
   ],
   "source": [
    "# Visualize accuracy and loss\n",
    "def plot_history(history):\n",
    "    plt.figure(figsize=(12, 4))\n",
    "    \n",
    "    # Accuracy\n",
    "    plt.subplot(1, 2, 1)\n",
    "    plt.plot(history.history[\"accuracy\"], label=\"Train\")\n",
    "    plt.plot(history.history[\"val_accuracy\"], label=\"Val\")\n",
    "    plt.title(\"Accuracy\")\n",
    "    plt.legend()\n",
    "\n",
    "    # Loss\n",
    "    plt.subplot(1, 2, 2)\n",
    "    plt.plot(history.history[\"loss\"], label=\"Train\")\n",
    "    plt.plot(history.history[\"val_loss\"], label=\"Val\")\n",
    "    plt.title(\"Loss\")\n",
    "    plt.legend()\n",
    "    \n",
    "    plt.tight_layout()\n",
    "    plt.show()\n",
    "\n",
    "plot_history(history)"
   ]
  },
  {
   "cell_type": "code",
   "execution_count": 100,
   "metadata": {
    "execution": {
     "iopub.execute_input": "2025-06-20T20:22:59.057958Z",
     "iopub.status.busy": "2025-06-20T20:22:59.057653Z",
     "iopub.status.idle": "2025-06-20T20:22:59.083648Z",
     "shell.execute_reply": "2025-06-20T20:22:59.083109Z",
     "shell.execute_reply.started": "2025-06-20T20:22:59.057937Z"
    },
    "trusted": true
   },
   "outputs": [
    {
     "name": "stdout",
     "output_type": "stream",
     "text": [
      "Submission file saved: cnn_submission.csv\n"
     ]
    }
   ],
   "source": [
    "submission = pd.DataFrame({\n",
    "    \"ImageId\": np.arange(1, len(labels) + 1),\n",
    "    \"Label\": labels\n",
    "})\n",
    "submission.to_csv(\"cnn_submission.csv\", index=False)\n",
    "print(\"Submission file saved: cnn_submission.csv\")"
   ]
  }
 ],
 "metadata": {
  "kaggle": {
   "accelerator": "nvidiaTeslaT4",
   "dataSources": [
    {
     "databundleVersionId": 861823,
     "sourceId": 3004,
     "sourceType": "competition"
    }
   ],
   "dockerImageVersionId": 31041,
   "isGpuEnabled": true,
   "isInternetEnabled": true,
   "language": "python",
   "sourceType": "notebook"
  },
  "kernelspec": {
   "display_name": "Python 3",
   "language": "python",
   "name": "python3"
  },
  "language_info": {
   "codemirror_mode": {
    "name": "ipython",
    "version": 3
   },
   "file_extension": ".py",
   "mimetype": "text/x-python",
   "name": "python",
   "nbconvert_exporter": "python",
   "pygments_lexer": "ipython3",
   "version": "3.11.11"
  }
 },
 "nbformat": 4,
 "nbformat_minor": 4
}
